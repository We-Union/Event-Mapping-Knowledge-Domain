{
 "cells": [
  {
   "cell_type": "code",
   "execution_count": 1,
   "metadata": {},
   "outputs": [],
   "source": [
    "import json\n",
    "with open(\"data/view.json\", \"r\", encoding=\"utf-8\") as fp:\n",
    "    view = json.load(fp=fp)\n",
    "    "
   ]
  },
  {
   "cell_type": "code",
   "execution_count": 2,
   "metadata": {},
   "outputs": [],
   "source": [
    "node_len = sum(map(lambda x : len(view[\"node\"][x]), view[\"node\"]))\n",
    "relation_len = sum(map(lambda x : len(view[\"relationship\"][x]), view[\"relationship\"]))"
   ]
  },
  {
   "cell_type": "code",
   "execution_count": 3,
   "metadata": {},
   "outputs": [
    {
     "data": {
      "text/plain": [
       "(35741, 67485, 103226)"
      ]
     },
     "execution_count": 3,
     "metadata": {},
     "output_type": "execute_result"
    }
   ],
   "source": [
    "node_len, relation_len, node_len + relation_len"
   ]
  },
  {
   "cell_type": "code",
   "execution_count": 7,
   "metadata": {},
   "outputs": [
    {
     "data": {
      "text/plain": [
       "['data/compare.joblib']"
      ]
     },
     "execution_count": 7,
     "metadata": {},
     "output_type": "execute_result"
    }
   ],
   "source": [
    "# build the map dict\n",
    "# relation and node are noted respectively\n",
    "def get_index2name_name2index(subview : dict):\n",
    "    index2type = {}\n",
    "    index2name = {}\n",
    "    name2index = {}\n",
    "    index = 0\n",
    "    for node_name in subview:\n",
    "        for name in subview[node_name]:\n",
    "            index2name[index] = name\n",
    "            index2type[index] = node_name\n",
    "            name2index[name] = index\n",
    "            index += 1\n",
    "\n",
    "    return {\n",
    "        \"index2name\" : index2name,\n",
    "        \"name2index\" : name2index,\n",
    "        \"index2type\" : index2type\n",
    "    }\n",
    "\n",
    "node_map = get_index2name_name2index(view[\"node\"])\n",
    "relation_map = get_index2name_name2index(view[\"relationship\"])\n",
    "\n",
    "\n",
    "\n",
    "len(node_map[\"index2name\"]), len(relation_map[\"index2name\"])\n",
    "target = {\"node\" : node_map, \"relationship\" : relation_map}\n",
    "with open(\"data/map.full.json\", \"w\", encoding=\"utf-8\") as fp:\n",
    "    json.dump(target, fp=fp, ensure_ascii=False)\n"
   ]
  },
  {
   "cell_type": "code",
   "execution_count": 1,
   "metadata": {},
   "outputs": [
    {
     "data": {
      "text/plain": [
       "(torch.Size([35741, 128]), torch.Size([67485, 128]))"
      ]
     },
     "execution_count": 1,
     "metadata": {},
     "output_type": "execute_result"
    }
   ],
   "source": [
    "# cluster\n",
    "from sklearn.cluster import DBSCAN\n",
    "import torch\n",
    "\n",
    "state_dict = torch.load(\"model/2022-05-09 19-30-10.pth\", map_location=\"cpu\")\n",
    "node_emb = state_dict[\"ent_emb.weight\"]         # torch.Size([35741, 128])\n",
    "rel_emb = state_dict[\"rel_emb.weight\"]         # torch.Size([67485, 128])\n",
    "node_emb.shape, rel_emb.shape"
   ]
  },
  {
   "cell_type": "code",
   "execution_count": null,
   "metadata": {},
   "outputs": [],
   "source": [
    "from sklearn.cluster import KMeans\n"
   ]
  }
 ],
 "metadata": {
  "interpreter": {
   "hash": "2469a70536e4d2335a2ea8907942d0699c37342a371ac185bdb5b0aa6f073890"
  },
  "kernelspec": {
   "display_name": "Python 3.7.6 64-bit",
   "language": "python",
   "name": "python3"
  },
  "language_info": {
   "codemirror_mode": {
    "name": "ipython",
    "version": 3
   },
   "file_extension": ".py",
   "mimetype": "text/x-python",
   "name": "python",
   "nbconvert_exporter": "python",
   "pygments_lexer": "ipython3",
   "version": "3.7.6"
  },
  "orig_nbformat": 4
 },
 "nbformat": 4,
 "nbformat_minor": 2
}
