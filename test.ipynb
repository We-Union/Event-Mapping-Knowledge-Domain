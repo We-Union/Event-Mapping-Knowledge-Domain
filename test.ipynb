{
 "cells": [
  {
   "cell_type": "code",
   "execution_count": 1,
   "metadata": {},
   "outputs": [],
   "source": [
    "# -*- encoding: utf-8 -*-\n",
    "# purpose: make vocab to view.json\n",
    "# please run the script in the neo4j server\n",
    "\n",
    "from py2neo import Graph, Node, Relationship, NodeMatcher, RelationshipMatcher\n",
    "import json\n",
    "\n",
    "LOG_CONFIG_FILE = \"./config/k.json\"\n",
    "\n",
    "with open(LOG_CONFIG_FILE, \"r\", encoding=\"utf-8\") as fp:\n",
    "    c = json.load(fp)\n",
    "\n",
    "g = Graph(**c)\n",
    "matcher = NodeMatcher(g)\n",
    "r_matcher = RelationshipMatcher(g)\n",
    "\n",
    "res = r_matcher.match(r_type=\"JOIN\").first()"
   ]
  },
  {
   "cell_type": "code",
   "execution_count": 4,
   "metadata": {},
   "outputs": [
    {
     "name": "stdout",
     "output_type": "stream",
     "text": [
      "_Subgraph__nodes _Subgraph__relationships _Walkable__sequence __add__ __and__ __bool__ __class__ __contains__ __db_create__ __db_delete__ __db_exists__ __db_merge__ __db_pull__ __db_push__ __db_separate__ __delattr__ __delitem__ __dict__ __dir__ __doc__ __eq__ __format__ __ge__ __getattribute__ __getitem__ __gt__ __hash__ __iand__ __init__ __init_subclass__ __ior__ __isub__ __iter__ __ixor__ __le__ __len__ __lt__ __module__ __name__ __ne__ __new__ __nonzero__ __or__ __reduce__ __reduce_ex__ __repr__ __setattr__ __setitem__ __sizeof__ __str__ __sub__ __subclasshook__ __uuid__ __walk__ __weakref__ __xor__ _graph _is_bound _stale clear copy end_node fromkeys get graph identity items keys labels nodes pop popitem ref relationships setdefault start_node type types update values "
     ]
    }
   ],
   "source": [
    "for i in dir(res):\n",
    "    print(i, end=\" \")"
   ]
  },
  {
   "cell_type": "code",
   "execution_count": 18,
   "metadata": {},
   "outputs": [
    {
     "data": {
      "text/plain": [
       "'JOIN'"
      ]
     },
     "execution_count": 18,
     "metadata": {},
     "output_type": "execute_result"
    }
   ],
   "source": [
    "list(res.types())[0]"
   ]
  }
 ],
 "metadata": {
  "interpreter": {
   "hash": "2469a70536e4d2335a2ea8907942d0699c37342a371ac185bdb5b0aa6f073890"
  },
  "kernelspec": {
   "display_name": "Python 3.7.6 64-bit",
   "language": "python",
   "name": "python3"
  },
  "language_info": {
   "codemirror_mode": {
    "name": "ipython",
    "version": 3
   },
   "file_extension": ".py",
   "mimetype": "text/x-python",
   "name": "python",
   "nbconvert_exporter": "python",
   "pygments_lexer": "ipython3",
   "version": "3.7.6"
  },
  "orig_nbformat": 4
 },
 "nbformat": 4,
 "nbformat_minor": 2
}
