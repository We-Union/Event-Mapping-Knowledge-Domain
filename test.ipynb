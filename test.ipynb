{
 "cells": [
  {
   "cell_type": "code",
   "execution_count": 7,
   "metadata": {},
   "outputs": [],
   "source": [
    "from util.kd import KnowledgeGraph\n",
    "import json"
   ]
  },
  {
   "cell_type": "code",
   "execution_count": 9,
   "metadata": {},
   "outputs": [],
   "source": [
    "LOG_CONFIG_FILE = \"./config/k.json\"\n",
    "\n",
    "with open(LOG_CONFIG_FILE, \"r\", encoding=\"utf-8\") as fp:\n",
    "    c = json.load(fp)\n",
    "\n",
    "kg = KnowledgeGraph(c)\n",
    "kg.load_everything(\n",
    "    index_view_path=\"./data/map.full.json\",\n",
    "    emb_model_path=\"model/2022-05-09 19-30-10.pth\"\n",
    ")"
   ]
  },
  {
   "cell_type": "code",
   "execution_count": 10,
   "metadata": {},
   "outputs": [
    {
     "name": "stdout",
     "output_type": "stream",
     "text": [
      "{'start': 'China', 'start_type': 'place', 'relation': 'join', 'end': '2022 Winter Olympics', 'end_type': 'event', 'evidence': 'China->2022 Winter Olympics'}\n"
     ]
    }
   ],
   "source": [
    "res = kg.predict_relation(\"Winter Olympics\", \"China\")\n",
    "\n",
    "for r in res:\n",
    "    print(r)"
   ]
  },
  {
   "cell_type": "code",
   "execution_count": 11,
   "metadata": {},
   "outputs": [
    {
     "data": {
      "text/plain": [
       "tensor([-0.1768, -0.1854, -0.1791, -0.1895, -0.1788, -0.1840, -0.1973, -0.1796,\n",
       "        -0.1874, -0.1820, -0.1935, -0.1886, -0.1800, -0.1864, -0.1862, -0.1936,\n",
       "        -0.1769, -0.1890, -0.1819, -0.1822, -0.1770, -0.1890, -0.1870, -0.1749,\n",
       "        -0.1752, -0.1806, -0.1885, -0.1791, -0.1880, -0.1739, -0.1785, -0.1872,\n",
       "        -0.1801, -0.1999, -0.1859, -0.1825, -0.1793, -0.1728, -0.1801, -0.1939,\n",
       "        -0.1822, -0.1833, -0.1848, -0.1766, -0.1831, -0.1795, -0.1858, -0.1766,\n",
       "        -0.1866, -0.1855, -0.1785, -0.1847, -0.1954, -0.2020, -0.1852, -0.1805,\n",
       "        -0.1887, -0.1961, -0.1819, -0.2009, -0.1830, -0.1823, -0.1918, -0.1999,\n",
       "        -0.1877, -0.1859, -0.1741, -0.1763, -0.1786, -0.1901, -0.1817, -0.1929,\n",
       "        -0.1883, -0.1777, -0.1853, -0.1911, -0.1870, -0.1825, -0.1742, -0.1822,\n",
       "        -0.1781, -0.1850, -0.1966, -0.1751, -0.1883, -0.1760, -0.1808, -0.1812,\n",
       "        -0.1820, -0.1741, -0.1890, -0.1882, -0.1863, -0.1858, -0.1882, -0.1947,\n",
       "        -0.1949, -0.1836, -0.1861, -0.1810, -0.1889, -0.1823, -0.2019, -0.1817,\n",
       "        -0.1808, -0.1727, -0.1759, -0.1982, -0.1815, -0.1876, -0.1802, -0.1844,\n",
       "        -0.1738, -0.1792, -0.1898, -0.1830, -0.1840, -0.1791, -0.1814, -0.1786,\n",
       "        -0.1812, -0.1824, -0.1858, -0.1769, -0.1835, -0.1817, -0.1781, -0.1843])"
      ]
     },
     "execution_count": 11,
     "metadata": {},
     "output_type": "execute_result"
    }
   ],
   "source": [
    "import torch\n",
    "\n",
    "torch.min(kg.rel_emb, axis=0)[0]"
   ]
  },
  {
   "cell_type": "code",
   "execution_count": 12,
   "metadata": {},
   "outputs": [
    {
     "data": {
      "text/plain": [
       "tensor([0.1788, 0.1823, 0.1753, 0.1867, 0.1790, 0.1824, 0.1853, 0.1855, 0.1785,\n",
       "        0.1812, 0.1798, 0.2031, 0.1813, 0.1747, 0.1819, 0.1776, 0.1880, 0.1804,\n",
       "        0.1776, 0.1817, 0.1861, 0.1795, 0.1797, 0.1781, 0.1792, 0.1822, 0.1861,\n",
       "        0.1782, 0.1772, 0.1907, 0.1878, 0.1790, 0.1871, 0.1841, 0.1846, 0.1821,\n",
       "        0.1793, 0.1868, 0.1869, 0.1802, 0.1896, 0.1985, 0.1840, 0.1902, 0.1766,\n",
       "        0.1797, 0.1802, 0.1889, 0.1847, 0.1799, 0.1858, 0.1763, 0.1842, 0.1748,\n",
       "        0.1726, 0.1832, 0.1837, 0.1903, 0.1972, 0.1832, 0.1947, 0.1846, 0.1742,\n",
       "        0.1740, 0.1996, 0.1920, 0.1897, 0.1755, 0.1720, 0.1815, 0.1953, 0.1853,\n",
       "        0.1787, 0.1938, 0.1915, 0.1807, 0.1901, 0.1896, 0.1750, 0.1890, 0.1791,\n",
       "        0.1940, 0.1770, 0.1729, 0.1848, 0.1923, 0.1834, 0.1781, 0.1884, 0.1983,\n",
       "        0.1969, 0.1920, 0.1827, 0.1877, 0.1892, 0.1865, 0.1903, 0.1948, 0.1956,\n",
       "        0.1768, 0.1916, 0.1796, 0.1884, 0.1827, 0.1828, 0.1799, 0.1718, 0.1726,\n",
       "        0.1798, 0.1783, 0.1910, 0.1807, 0.1749, 0.1766, 0.1768, 0.1824, 0.1780,\n",
       "        0.1774, 0.1851, 0.1828, 0.1981, 0.1786, 0.1914, 0.1805, 0.1777, 0.1777,\n",
       "        0.1776, 0.1771])"
      ]
     },
     "execution_count": 12,
     "metadata": {},
     "output_type": "execute_result"
    }
   ],
   "source": [
    "torch.max(kg.rel_emb, axis=0)[0]"
   ]
  },
  {
   "cell_type": "code",
   "execution_count": 15,
   "metadata": {},
   "outputs": [],
   "source": [
    "vec_len = [torch.sqrt(torch.norm(kg.rel_emb[i])).item() for i in range(kg.rel_emb.shape[0])]"
   ]
  },
  {
   "cell_type": "code",
   "execution_count": 20,
   "metadata": {},
   "outputs": [],
   "source": [
    "import numpy as np\n",
    "vec_len = np.array(vec_len)\n",
    "indice = np.arange(500)\n",
    "np.random.shuffle(indice)\n",
    "\n",
    "vec_len = np.array([kg.rel_emb[i].tolist() for i in indice])"
   ]
  },
  {
   "cell_type": "code",
   "execution_count": 30,
   "metadata": {},
   "outputs": [
    {
     "data": {
      "text/plain": [
       "array([[ 8.12819249e-04,  9.57185895e-05,  9.25832774e-05, ...,\n",
       "         4.37339808e-05,  2.67218205e-05,  1.04374167e-04],\n",
       "       [ 9.57185895e-05,  9.65358810e-04, -2.31275865e-05, ...,\n",
       "        -4.68607207e-05,  2.12733316e-05,  2.74929805e-05],\n",
       "       [ 9.25832774e-05, -2.31275865e-05,  8.74166636e-04, ...,\n",
       "         6.65456834e-05, -5.09419359e-05, -3.76850490e-05],\n",
       "       ...,\n",
       "       [ 4.37339808e-05, -4.68607207e-05,  6.65456834e-05, ...,\n",
       "         9.57091336e-04,  4.85210214e-05, -3.11877779e-05],\n",
       "       [ 2.67218205e-05,  2.12733316e-05, -5.09419359e-05, ...,\n",
       "         4.85210214e-05,  9.78613772e-04,  4.97194473e-05],\n",
       "       [ 1.04374167e-04,  2.74929805e-05, -3.76850490e-05, ...,\n",
       "        -3.11877779e-05,  4.97194473e-05,  1.04637467e-03]])"
      ]
     },
     "execution_count": 30,
     "metadata": {},
     "output_type": "execute_result"
    }
   ],
   "source": [
    "res = np.cov(vec_len.T)\n",
    "res"
   ]
  },
  {
   "cell_type": "code",
   "execution_count": 31,
   "metadata": {},
   "outputs": [],
   "source": [
    "vals, vecs = np.linalg.eig(res)"
   ]
  },
  {
   "cell_type": "code",
   "execution_count": 38,
   "metadata": {},
   "outputs": [
    {
     "data": {
      "text/plain": [
       "array([[16.07466711,  0.        ,  0.        , ...,  0.        ,\n",
       "         0.        ,  0.        ],\n",
       "       [ 0.        , 16.91137153,  0.        , ...,  0.        ,\n",
       "         0.        ,  0.        ],\n",
       "       [ 0.        ,  0.        , 17.49590978, ...,  0.        ,\n",
       "         0.        ,  0.        ],\n",
       "       ...,\n",
       "       [ 0.        ,  0.        ,  0.        , ..., 54.78720278,\n",
       "         0.        ,  0.        ],\n",
       "       [ 0.        ,  0.        ,  0.        , ...,  0.        ,\n",
       "        51.03652899,  0.        ],\n",
       "       [ 0.        ,  0.        ,  0.        , ...,  0.        ,\n",
       "         0.        , 47.73034172]])"
      ]
     },
     "execution_count": 38,
     "metadata": {},
     "output_type": "execute_result"
    }
   ],
   "source": [
    "target = np.diag(vals ** (-0.5))\n",
    "target"
   ]
  },
  {
   "cell_type": "code",
   "execution_count": 35,
   "metadata": {},
   "outputs": [
    {
     "data": {
      "text/plain": [
       "array([[ 0.05204221, -0.12963684, -0.02999723, ...,  0.06018427,\n",
       "         0.02361324, -0.00626761],\n",
       "       [ 0.17080907, -0.10183488, -0.05999234, ..., -0.07227207,\n",
       "        -0.04221971,  0.09885366],\n",
       "       [-0.095143  ,  0.01401355, -0.0294788 , ..., -0.09363791,\n",
       "        -0.0272232 ,  0.1229505 ],\n",
       "       ...,\n",
       "       [-0.03237525,  0.0770696 , -0.04644924, ..., -0.15423225,\n",
       "        -0.08420493, -0.00351221],\n",
       "       [-0.01826545,  0.01072659, -0.07983858, ...,  0.1188083 ,\n",
       "        -0.00704384, -0.01778924],\n",
       "       [ 0.20559153, -0.11821214,  0.02743676, ..., -0.07630456,\n",
       "         0.07598397,  0.01511405]])"
      ]
     },
     "execution_count": 35,
     "metadata": {},
     "output_type": "execute_result"
    }
   ],
   "source": [
    "vecs"
   ]
  },
  {
   "cell_type": "code",
   "execution_count": 54,
   "metadata": {},
   "outputs": [
    {
     "data": {
      "text/plain": [
       "(500, 128)"
      ]
     },
     "execution_count": 54,
     "metadata": {},
     "output_type": "execute_result"
    }
   ],
   "source": [
    "vec = (vecs @ target @ vecs.T @ vec_len.T).T \n",
    "vec.shape"
   ]
  },
  {
   "cell_type": "code",
   "execution_count": 55,
   "metadata": {},
   "outputs": [],
   "source": [
    "vec_ll = np.array([np.sqrt(np.linalg.norm(vec[i])) for i in range(vec.shape[0])])"
   ]
  },
  {
   "cell_type": "code",
   "execution_count": 56,
   "metadata": {},
   "outputs": [
    {
     "data": {
      "text/plain": [
       "(3.246793252436298, 0.4990203055663107)"
      ]
     },
     "execution_count": 56,
     "metadata": {},
     "output_type": "execute_result"
    }
   ],
   "source": [
    "vec_ll.mean(), vec_ll.std()"
   ]
  },
  {
   "cell_type": "code",
   "execution_count": 62,
   "metadata": {},
   "outputs": [
    {
     "data": {
      "image/png": "[encoded data removed]",
      "text/plain": [
       "<Figure size 432x288 with 1 Axes>"
      ]
     },
     "metadata": {},
     "output_type": "display_data"
    }
   ],
   "source": [
    "import matplotlib.pyplot as plt\n",
    "import seaborn as sns\n",
    "\n",
    "indices = np.arange(500)\n",
    "np.random.shuffle(indice)\n",
    "\n",
    "sample_x = np.array([kg.rel_emb[i][0].item() for i in indice])\n",
    "sample_y = np.array([kg.rel_emb[i][1].item() for i in indice])\n",
    "\n",
    "plt.scatter(sample_x, sample_y)\n",
    "plt.show()"
   ]
  },
  {
   "cell_type": "code",
   "execution_count": 68,
   "metadata": {},
   "outputs": [],
   "source": [
    "kg_rel_emb = kg.rel_emb\n",
    "kg_rel_emb = (kg_rel_emb - kg_rel_emb.mean(axis=0)) / (kg_rel_emb.std(axis=0) * kg_rel_emb.std(axis=0))\n",
    "kg_rel_emb_lens = np.array([np.sqrt(np.linalg.norm(kg_rel_emb[i])) for i in indice])"
   ]
  },
  {
   "cell_type": "code",
   "execution_count": 69,
   "metadata": {},
   "outputs": [
    {
     "data": {
      "text/plain": [
       "<seaborn.axisgrid.FacetGrid at 0x24bff4c78c8>"
      ]
     },
     "execution_count": 69,
     "metadata": {},
     "output_type": "execute_result"
    },
    {
     "data": {
      "image/png": "[encoded data removed]",
      "text/plain": [
       "<Figure size 360x360 with 1 Axes>"
      ]
     },
     "metadata": {},
     "output_type": "display_data"
    }
   ],
   "source": [
    "sns.displot(kg_rel_emb_lens, kind=\"kde\")"
   ]
  }
 ],
 "metadata": {
  "interpreter": {
   "hash": "2469a70536e4d2335a2ea8907942d0699c37342a371ac185bdb5b0aa6f073890"
  },
  "kernelspec": {
   "display_name": "Python 3.7.6 64-bit",
   "language": "python",
   "name": "python3"
  },
  "language_info": {
   "codemirror_mode": {
    "name": "ipython",
    "version": 3
   },
   "file_extension": ".py",
   "mimetype": "text/x-python",
   "name": "python",
   "nbconvert_exporter": "python",
   "pygments_lexer": "ipython3",
   "version": "3.7.6"
  },
  "orig_nbformat": 4
 },
 "nbformat": 4,
 "nbformat_minor": 2
}
