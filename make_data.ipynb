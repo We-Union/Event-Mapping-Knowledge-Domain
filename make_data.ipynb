{
 "cells": [
  {
   "cell_type": "code",
   "execution_count": 1,
   "metadata": {},
   "outputs": [
    {
     "name": "stderr",
     "output_type": "stream",
     "text": [
      "/home/kirigaya/.local/lib/python3.8/site-packages/fuzzywuzzy/fuzz.py:11: UserWarning: Using slow pure-python SequenceMatcher. Install python-Levenshtein to remove this warning\n",
      "  warnings.warn('Using slow pure-python SequenceMatcher. Install python-Levenshtein to remove this warning')\n"
     ]
    }
   ],
   "source": [
    "import json\n",
    "from pprint import pprint\n",
    "from fuzzywuzzy import fuzz\n",
    "from tqdm import tqdm\n",
    "import numpy as np\n",
    "import matplotlib.pyplot as plt\n",
    "import seaborn as sns\n",
    "\n",
    "from collections import Counter"
   ]
  },
  {
   "cell_type": "code",
   "execution_count": null,
   "metadata": {},
   "outputs": [],
   "source": [
    "# clear data   O(n)\n",
    "def remove_abnormal(text):\n",
    "    result = \"\"\n",
    "    enter = False\n",
    "    for i, c in enumerate(text):\n",
    "        if enter:\n",
    "            if c != '\"':\n",
    "                result += c\n",
    "            else:\n",
    "                if text[i + 1] in [\"}\"] or text[i + 1: i + 3] in [\"],\", \"]}\"] or text[i + 1: i + 4] in [', \"', ': \"', ': [']:\n",
    "                    result += c\n",
    "                    enter = False\n",
    "        else:\n",
    "            result += c\n",
    "            if i > 2:\n",
    "                pre_str = text[i - 2: i + 1]\n",
    "                if pre_str in [': \"', ', \"']:\n",
    "                    enter = True\n",
    "        \n",
    "    return result\n",
    "\n",
    "wfp = open(\"data/results.json\", \"w\", encoding=\"utf-8\")\n",
    "for line in open(\"data/data.json\", \"r\", encoding=\"utf-8\"):\n",
    "    line = remove_abnormal(line.strip())\n",
    "    wfp.write(line)\n",
    "    wfp.write(\"\\n\")\n",
    "wfp.close()"
   ]
  },
  {
   "cell_type": "code",
   "execution_count": 16,
   "metadata": {},
   "outputs": [
    {
     "data": {
      "text/plain": [
       "{'title': 'Winter Olympic Games',\n",
       " 'url': 'https://en.wikipedia.org/wiki/Winter_Olympic_Games',\n",
       " 'desc': \"The Winter Olympic Games (French: Jeux olympiques d'hiver)[note 1] is a major international multi-sport event held once every four years for sports practiced on snow and ice. The first Winter Olympic Games, the 1924 Winter Olympics, were held in Chamonix, France. The modern Olympic Games were inspired by the ancient Olympic Games, which were held in Olympia, Greece, from the 8th century BC to the 4th century AD. Baron Pierre de Coubertin founded the International Olympic Committee (IOC) in 1894, leading to the first modern Summer Olympic Games in Athens, Greece in 1896. The IOC is the governing body of the Olympic Movement, with the Olympic Charter defining its structure and authority.\",\n",
       " 'time': [],\n",
       " 'place': [],\n",
       " 'joiner': [{'type': 'GPE', 'content': 'Norway'},\n",
       "  {'type': 'GPE', 'content': 'Russia'},\n",
       "  {'type': 'GPE', 'content': 'the United States'},\n",
       "  {'type': 'GPE', 'content': 'Germany'},\n",
       "  {'type': 'NORP', 'content': 'Russian'},\n",
       "  {'type': 'GPE', 'content': 'South Korea'},\n",
       "  {'type': 'GPE', 'content': 'Canada'},\n",
       "  {'type': 'GPE', 'content': 'Japan'},\n",
       "  {'type': 'GPE', 'content': 'Sweden'},\n",
       "  {'type': 'NORP', 'content': 'Norwegian'}]}"
      ]
     },
     "execution_count": 16,
     "metadata": {},
     "output_type": "execute_result"
    }
   ],
   "source": [
    "# add relation    O(n^2)\n",
    "all_data = [json.loads(line.strip()) for line in open(\"data/data_step1.json\", \"r\", encoding=\"utf-8\")]\n",
    "\n",
    "all_data[0]"
   ]
  },
  {
   "cell_type": "code",
   "execution_count": 46,
   "metadata": {},
   "outputs": [
    {
     "name": "stdout",
     "output_type": "stream",
     "text": [
      "['Youth Olympic Games']\n"
     ]
    }
   ],
   "source": [
    "def get_sim_set(data_index : int, score_thred : int = 90) -> list:\n",
    "    sim_set = []\n",
    "    for i in range(len(all_data)):\n",
    "        if i == data_index:\n",
    "            continue\n",
    "        score = fuzz.token_set_ratio(all_data[data_index][\"title\"], all_data[i][\"desc\"])\n",
    "        if score >= score_thred:\n",
    "            sim_set.append(all_data[i][\"title\"])\n",
    "    return sim_set\n",
    "\n",
    "sim_set = get_sim_set(2)\n",
    "print(sim_set)"
   ]
  },
  {
   "cell_type": "code",
   "execution_count": 47,
   "metadata": {},
   "outputs": [
    {
     "name": "stderr",
     "output_type": "stream",
     "text": [
      "100%|██████████| 4090/4090 [17:23<00:00,  3.92it/s]\n"
     ]
    },
    {
     "ename": "NameError",
     "evalue": "name 'sns' is not defined",
     "output_type": "error",
     "traceback": [
      "\u001b[1;31m---------------------------------------------------------------------------\u001b[0m",
      "\u001b[1;31mNameError\u001b[0m                                 Traceback (most recent call last)",
      "\u001b[1;32m<ipython-input-47-a4066f0ade24>\u001b[0m in \u001b[0;36m<module>\u001b[1;34m\u001b[0m\n\u001b[0;32m      3\u001b[0m     \u001b[0msim_set_num\u001b[0m \u001b[1;33m=\u001b[0m \u001b[0mlen\u001b[0m\u001b[1;33m(\u001b[0m\u001b[0mget_sim_set\u001b[0m\u001b[1;33m(\u001b[0m\u001b[0mi\u001b[0m\u001b[1;33m)\u001b[0m\u001b[1;33m)\u001b[0m\u001b[1;33m\u001b[0m\u001b[1;33m\u001b[0m\u001b[0m\n\u001b[0;32m      4\u001b[0m     \u001b[0mnums\u001b[0m\u001b[1;33m.\u001b[0m\u001b[0mappend\u001b[0m\u001b[1;33m(\u001b[0m\u001b[0msim_set_num\u001b[0m\u001b[1;33m)\u001b[0m\u001b[1;33m\u001b[0m\u001b[1;33m\u001b[0m\u001b[0m\n\u001b[1;32m----> 5\u001b[1;33m \u001b[0msns\u001b[0m\u001b[1;33m.\u001b[0m\u001b[0mdisplot\u001b[0m\u001b[1;33m(\u001b[0m\u001b[0mnums\u001b[0m\u001b[1;33m,\u001b[0m \u001b[0mrug\u001b[0m\u001b[1;33m=\u001b[0m\u001b[1;32mTrue\u001b[0m\u001b[1;33m)\u001b[0m\u001b[1;33m\u001b[0m\u001b[1;33m\u001b[0m\u001b[0m\n\u001b[0m",
      "\u001b[1;31mNameError\u001b[0m: name 'sns' is not defined"
     ]
    }
   ],
   "source": [
    "nums = []\n",
    "for i in tqdm(range(len(all_data))):\n",
    "    sim_set_num = len(get_sim_set(i))\n",
    "    nums.append(sim_set_num)"
   ]
  },
  {
   "cell_type": "code",
   "execution_count": 59,
   "metadata": {},
   "outputs": [
    {
     "data": {
      "text/plain": [
       "Counter({32: 1,\n",
       "         24: 22,\n",
       "         1: 521,\n",
       "         18: 35,\n",
       "         0: 2550,\n",
       "         14: 11,\n",
       "         63: 1,\n",
       "         5: 80,\n",
       "         52: 2,\n",
       "         23: 5,\n",
       "         2: 192,\n",
       "         10: 30,\n",
       "         8: 47,\n",
       "         7: 51,\n",
       "         6: 40,\n",
       "         13: 30,\n",
       "         4: 59,\n",
       "         3: 132,\n",
       "         161: 1,\n",
       "         33: 1,\n",
       "         9: 22,\n",
       "         16: 35,\n",
       "         11: 11,\n",
       "         15: 21,\n",
       "         12: 10,\n",
       "         25: 28,\n",
       "         19: 10,\n",
       "         17: 18,\n",
       "         20: 23,\n",
       "         26: 8,\n",
       "         21: 6,\n",
       "         48: 1,\n",
       "         27: 4,\n",
       "         70: 56,\n",
       "         44: 1,\n",
       "         71: 2,\n",
       "         43: 12,\n",
       "         22: 2,\n",
       "         45: 1,\n",
       "         30: 1,\n",
       "         29: 2,\n",
       "         28: 1,\n",
       "         57: 1,\n",
       "         108: 1,\n",
       "         72: 1,\n",
       "         64: 1})"
      ]
     },
     "execution_count": 59,
     "metadata": {},
     "output_type": "execute_result"
    }
   ],
   "source": [
    "Counter(nums)"
   ]
  },
  {
   "cell_type": "code",
   "execution_count": 64,
   "metadata": {},
   "outputs": [
    {
     "name": "stderr",
     "output_type": "stream",
     "text": [
      "100%|██████████| 4090/4090 [17:25<00:00,  3.91it/s]\n"
     ]
    }
   ],
   "source": [
    "fp = open(\"data/data_step2.json\", \"w\", encoding=\"utf-8\")\n",
    "for i in tqdm(range(len(all_data))):\n",
    "    sim_set = get_sim_set(i)\n",
    "    all_data[i][\"link\"] = sim_set\n",
    "    fp.write(json.dumps(all_data[i], ensure_ascii=False))\n",
    "    fp.write(\"\\n\")\n",
    "fp.close()"
   ]
  }
 ],
 "metadata": {
  "interpreter": {
   "hash": "31f2aee4e71d21fbe5cf8b01ff0e069b9275f58929596ceb00d14d90e3e16cd6"
  },
  "kernelspec": {
   "display_name": "Python 3.8.10 64-bit",
   "language": "python",
   "name": "python3"
  },
  "language_info": {
   "codemirror_mode": {
    "name": "ipython",
    "version": 3
   },
   "file_extension": ".py",
   "mimetype": "text/x-python",
   "name": "python",
   "nbconvert_exporter": "python",
   "pygments_lexer": "ipython3",
   "version": "3.8.10"
  },
  "orig_nbformat": 4
 },
 "nbformat": 4,
 "nbformat_minor": 2
}
