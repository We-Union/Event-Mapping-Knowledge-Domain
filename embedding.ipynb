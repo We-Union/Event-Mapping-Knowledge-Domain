{
 "cells": [
  {
   "cell_type": "code",
   "execution_count": 17,
   "metadata": {},
   "outputs": [],
   "source": [
    "import json\n",
    "with open(\"data/view.json\", \"r\", encoding=\"utf-8\") as fp:\n",
    "    view = json.load(fp=fp)"
   ]
  },
  {
   "cell_type": "code",
   "execution_count": 18,
   "metadata": {},
   "outputs": [],
   "source": [
    "node_len = sum(map(lambda x : len(view[\"node\"][x]), view[\"node\"]))\n",
    "relation_len = sum(map(lambda x : len(view[\"relationship\"][x]), view[\"relationship\"]))"
   ]
  },
  {
   "cell_type": "code",
   "execution_count": 19,
   "metadata": {},
   "outputs": [
    {
     "data": {
      "text/plain": [
       "(35741, 67485, 103226)"
      ]
     },
     "execution_count": 19,
     "metadata": {},
     "output_type": "execute_result"
    }
   ],
   "source": [
    "node_len, relation_len, node_len + relation_len"
   ]
  },
  {
   "cell_type": "code",
   "execution_count": 23,
   "metadata": {},
   "outputs": [
    {
     "ename": "RuntimeError",
     "evalue": "[enforce fail at alloc_cpu.cpp:73] . DefaultCPUAllocator: can't allocate memory: you tried to allocate 12800000000 bytes. Error code 12 (Cannot allocate memory)",
     "output_type": "error",
     "traceback": [
      "\u001b[0;31m---------------------------------------------------------------------------\u001b[0m",
      "\u001b[0;31mRuntimeError\u001b[0m                              Traceback (most recent call last)",
      "\u001b[1;32m/home/kirigaya/Project/Event-Mapping-Knowledge-Domain/embedding.ipynb Cell 4'\u001b[0m in \u001b[0;36m<cell line: 7>\u001b[0;34m()\u001b[0m\n\u001b[1;32m      <a href='vscode-notebook-cell://wsl%2Bubuntu-18.04/home/kirigaya/Project/Event-Mapping-Knowledge-Domain/embedding.ipynb#ch0000005vscode-remote?line=3'>4</a>\u001b[0m \u001b[39mif\u001b[39;00m \u001b[39mnot\u001b[39;00m os\u001b[39m.\u001b[39mpath\u001b[39m.\u001b[39mexists(\u001b[39m\"\u001b[39m\u001b[39mmodel\u001b[39m\u001b[39m\"\u001b[39m):\n\u001b[1;32m      <a href='vscode-notebook-cell://wsl%2Bubuntu-18.04/home/kirigaya/Project/Event-Mapping-Knowledge-Domain/embedding.ipynb#ch0000005vscode-remote?line=4'>5</a>\u001b[0m     os\u001b[39m.\u001b[39mmkdir(\u001b[39m\"\u001b[39m\u001b[39mmodel\u001b[39m\u001b[39m\"\u001b[39m)\n\u001b[0;32m----> <a href='vscode-notebook-cell://wsl%2Bubuntu-18.04/home/kirigaya/Project/Event-Mapping-Knowledge-Domain/embedding.ipynb#ch0000005vscode-remote?line=6'>7</a>\u001b[0m model \u001b[39m=\u001b[39m TransDModel(\n\u001b[1;32m      <a href='vscode-notebook-cell://wsl%2Bubuntu-18.04/home/kirigaya/Project/Event-Mapping-Knowledge-Domain/embedding.ipynb#ch0000005vscode-remote?line=7'>8</a>\u001b[0m     ent_emb_dim\u001b[39m=\u001b[39;49m\u001b[39m128\u001b[39;49m,\n\u001b[1;32m      <a href='vscode-notebook-cell://wsl%2Bubuntu-18.04/home/kirigaya/Project/Event-Mapping-Knowledge-Domain/embedding.ipynb#ch0000005vscode-remote?line=8'>9</a>\u001b[0m     rel_emb_dim\u001b[39m=\u001b[39;49m\u001b[39m128\u001b[39;49m,\n\u001b[1;32m     <a href='vscode-notebook-cell://wsl%2Bubuntu-18.04/home/kirigaya/Project/Event-Mapping-Knowledge-Domain/embedding.ipynb#ch0000005vscode-remote?line=9'>10</a>\u001b[0m     n_entities\u001b[39m=\u001b[39;49m\u001b[39m5000\u001b[39;49m,\n\u001b[1;32m     <a href='vscode-notebook-cell://wsl%2Bubuntu-18.04/home/kirigaya/Project/Event-Mapping-Knowledge-Domain/embedding.ipynb#ch0000005vscode-remote?line=10'>11</a>\u001b[0m     n_relations\u001b[39m=\u001b[39;49m\u001b[39m5000\u001b[39;49m\n\u001b[1;32m     <a href='vscode-notebook-cell://wsl%2Bubuntu-18.04/home/kirigaya/Project/Event-Mapping-Knowledge-Domain/embedding.ipynb#ch0000005vscode-remote?line=11'>12</a>\u001b[0m )\n",
      "File \u001b[0;32m~/.local/lib/python3.8/site-packages/torchkge/models/translation.py:531\u001b[0m, in \u001b[0;36mTransDModel.__init__\u001b[0;34m(self, ent_emb_dim, rel_emb_dim, n_entities, n_relations)\u001b[0m\n\u001b[1;32m    <a href='file:///home/kirigaya/.local/lib/python3.8/site-packages/torchkge/models/translation.py?line=527'>528</a>\u001b[0m \u001b[39mself\u001b[39m\u001b[39m.\u001b[39mnormalize_parameters()\n\u001b[1;32m    <a href='file:///home/kirigaya/.local/lib/python3.8/site-packages/torchkge/models/translation.py?line=529'>530</a>\u001b[0m \u001b[39mself\u001b[39m\u001b[39m.\u001b[39mevaluated_projections \u001b[39m=\u001b[39m \u001b[39mFalse\u001b[39;00m\n\u001b[0;32m--> <a href='file:///home/kirigaya/.local/lib/python3.8/site-packages/torchkge/models/translation.py?line=530'>531</a>\u001b[0m \u001b[39mself\u001b[39m\u001b[39m.\u001b[39mprojected_entities \u001b[39m=\u001b[39m Parameter(empty(size\u001b[39m=\u001b[39;49m(\u001b[39mself\u001b[39;49m\u001b[39m.\u001b[39;49mn_rel,\n\u001b[1;32m    <a href='file:///home/kirigaya/.local/lib/python3.8/site-packages/torchkge/models/translation.py?line=531'>532</a>\u001b[0m                                                 \u001b[39mself\u001b[39;49m\u001b[39m.\u001b[39;49mn_ent,\n\u001b[1;32m    <a href='file:///home/kirigaya/.local/lib/python3.8/site-packages/torchkge/models/translation.py?line=532'>533</a>\u001b[0m                                                 \u001b[39mself\u001b[39;49m\u001b[39m.\u001b[39;49mrel_emb_dim)),\n\u001b[1;32m    <a href='file:///home/kirigaya/.local/lib/python3.8/site-packages/torchkge/models/translation.py?line=533'>534</a>\u001b[0m                                     requires_grad\u001b[39m=\u001b[39m\u001b[39mFalse\u001b[39;00m)\n",
      "\u001b[0;31mRuntimeError\u001b[0m: [enforce fail at alloc_cpu.cpp:73] . DefaultCPUAllocator: can't allocate memory: you tried to allocate 12800000000 bytes. Error code 12 (Cannot allocate memory)"
     ]
    }
   ],
   "source": [
    "from torchkge.models import TransDModel\n",
    "import os\n",
    "\n",
    "if not os.path.exists(\"model\"):\n",
    "    os.mkdir(\"model\")\n",
    "\n",
    "model = TransDModel(\n",
    "    ent_emb_dim=128,\n",
    "    rel_emb_dim=128,\n",
    "    n_entities=5000,\n",
    "    n_relations=5000\n",
    ")"
   ]
  },
  {
   "cell_type": "code",
   "execution_count": null,
   "metadata": {},
   "outputs": [
    {
     "data": {
      "text/plain": [
       "TransDModel(\n",
       "  (ent_emb): Embedding(200, 100)\n",
       "  (rel_emb): Embedding(400, 100)\n",
       "  (ent_proj_vect): Embedding(200, 100)\n",
       "  (rel_proj_vect): Embedding(400, 100)\n",
       ")"
      ]
     },
     "execution_count": 9,
     "metadata": {},
     "output_type": "execute_result"
    }
   ],
   "source": []
  }
 ],
 "metadata": {
  "interpreter": {
   "hash": "31f2aee4e71d21fbe5cf8b01ff0e069b9275f58929596ceb00d14d90e3e16cd6"
  },
  "kernelspec": {
   "display_name": "Python 3.8.10 64-bit",
   "language": "python",
   "name": "python3"
  },
  "language_info": {
   "codemirror_mode": {
    "name": "ipython",
    "version": 3
   },
   "file_extension": ".py",
   "mimetype": "text/x-python",
   "name": "python",
   "nbconvert_exporter": "python",
   "pygments_lexer": "ipython3",
   "version": "3.8.10"
  },
  "orig_nbformat": 4
 },
 "nbformat": 4,
 "nbformat_minor": 2
}
